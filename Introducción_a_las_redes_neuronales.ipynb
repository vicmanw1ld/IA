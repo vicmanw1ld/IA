{
  "nbformat": 4,
  "nbformat_minor": 0,
  "metadata": {
    "colab": {
      "provenance": [],
      "authorship_tag": "ABX9TyMuG1r/HoKEDJZlg60BRtOL",
      "include_colab_link": true
    },
    "kernelspec": {
      "name": "python3",
      "display_name": "Python 3"
    },
    "language_info": {
      "name": "python"
    }
  },
  "cells": [
    {
      "cell_type": "markdown",
      "metadata": {
        "id": "view-in-github",
        "colab_type": "text"
      },
      "source": [
        "<a href=\"https://colab.research.google.com/github/vicmanw1ld/IA/blob/main/Introducci%C3%B3n_a_las_redes_neuronales.ipynb\" target=\"_parent\"><img src=\"https://colab.research.google.com/assets/colab-badge.svg\" alt=\"Open In Colab\"/></a>"
      ]
    },
    {
      "cell_type": "markdown",
      "source": [
        "INTRODUCCIÓN A LAS REDES NEURONALES ARTIFICIALES\n",
        "La neurona de McCulloch-Pitts es el primer modelo computacional de una neurona biológica, propuesto en 1943 por el neurocientífico Warren McCulloch y el lógico Walter Pitts. Este modelo sentó las bases de las redes neuronales artificiales y es fundamental para la Inteligencia Artificial.\n",
        "RED NEURONAL ARTIFICIAL (RNA)\n",
        "Inspirado en las redes neuronales bilógicas.\n",
        "Componente principal del Deep Learning.\n"
      ],
      "metadata": {
        "id": "u-THLCn8RTnu"
      }
    },
    {
      "cell_type": "markdown",
      "source": [
        "Neurona de M-P\n",
        "Término threshold => En una neurona artificial, el umbral (o threshold en inglés) es un valor clave que determina si la neurona se \"activa\" y produce una salida. Funciona de manera similar al umbral de disparo en una neurona biológica."
      ],
      "metadata": {
        "id": "hp9pwAWP-Dat"
      }
    },
    {
      "cell_type": "markdown",
      "source": [
        "Vamos a poner un ejemplo en python de por ejemplo si voy a ir al cine hoy, con un threshold = 2 y donde z = a la agregación y a = decisión, las preguntas para z serían x1 = ¿Es fin de semana? = 1, x2 = Tengo tareas que realizar? = 0, x3 = esta el cine cerrado? = 0, x4 = estrenan película = 1"
      ],
      "metadata": {
        "id": "U_r5eKWAuqxu"
      }
    },
    {
      "cell_type": "code",
      "source": [
        "def neurona_cine(x1_fin_semana, x2_tareas, x3_cine_cerrado, x4_estreno):\n",
        "    \"\"\"\n",
        "    Simula una neurona para decidir si ir al cine.\n",
        "\n",
        "    Args:\n",
        "        x1_fin_semana (int): ¿Es fin de semana? (1 para Sí, 0 para No)\n",
        "        x2_tareas (int): ¿Tienes tareas que realizar? (1 para Sí, 0 para No)\n",
        "        x3_cine_cerrado (int): ¿Está el cine cerrado? (1 para Sí, 0 para No)\n",
        "        x4_estreno (int): ¿Estrenan película? (1 para Sí, 0 para No)\n",
        "\n",
        "    Returns:\n",
        "        str: Decisión final (\"¡Vamos al cine!\" o \"No vamos al cine :(\").\n",
        "    \"\"\"\n",
        "\n",
        "    # Pesos (Puedes ajustarlos para dar más o menos importancia a cada factor)\n",
        "    # Por ejemplo, que sea fin de semana y que haya estreno tienen peso positivo.\n",
        "    # Tener tareas o que el cine esté cerrado tienen peso negativo.\n",
        "    w1 = 1  # Peso para fin de semana\n",
        "    w2 = -1 # Peso para tareas (resta puntos si hay tareas)\n",
        "    w3 = -10 # Peso para cine cerrado (un valor muy negativo, casi bloquea la salida)\n",
        "    w4 = 1  # Peso para estreno de película\n",
        "\n",
        "    # Umbral (threshold)\n",
        "    umbral = 2\n",
        "\n",
        "    # Agregación (z): Suma ponderada de las entradas\n",
        "    # z = (x1 * w1) + (x2 * w2) + (x3 * w3) + (x4 * w4)\n",
        "    z = (x1_fin_semana * w1) + \\\n",
        "        (x2_tareas * w2) + \\\n",
        "        (x3_cine_cerrado * w3) + \\\n",
        "        (x4_estreno * w4)\n",
        "\n",
        "    print(f\"Valor de agregación (z): {z}\")\n",
        "\n",
        "    # Decisión (a): Comparación de la agregación con el umbral\n",
        "    if z >= umbral:\n",
        "        a = \"¡Vamos al cine!\"\n",
        "    else:\n",
        "        a = \"No vamos al cine :(\"\n",
        "\n",
        "    return a\n",
        "\n",
        "# Tus datos de entrada:\n",
        "x1 = 1 # ¿Es fin de semana? = Sí\n",
        "x2 = 0 # ¿Tengo tareas que realizar? = No\n",
        "x3 = 0 # ¿Está el cine cerrado? = No\n",
        "x4 = 1 # ¿Estrenan película? = Sí\n",
        "\n",
        "# Ejecutamos la neurona con tus datos\n",
        "decision_final = neurona_cine(x1, x2, x3, x4)\n",
        "print(f\"Decisión: {decision_final}\")\n",
        "\n",
        "print(\"\\n--- Otros ejemplos ---\")\n",
        "\n",
        "# Ejemplo 2: Cine cerrado (debería evitar ir)\n",
        "x1_ej2 = 1\n",
        "x2_ej2 = 0\n",
        "x3_ej2 = 1 # ¡Cine cerrado!\n",
        "x4_ej2 = 1\n",
        "print(f\"\\nCon cine cerrado: {neurona_cine(x1_ej2, x2_ej2, x3_ej2, x4_ej2)}\")\n",
        "\n",
        "# Ejemplo 3: Muchas tareas y sin estreno (debería evitar ir)\n",
        "x1_ej3 = 0\n",
        "x2_ej3 = 1 # ¡Muchas tareas!\n",
        "x3_ej3 = 0\n",
        "x4_ej3 = 0\n",
        "print(f\"\\nCon muchas tareas y sin estreno: {neurona_cine(x1_ej3, x2_ej3, x3_ej3, x4_ej3)}\")"
      ],
      "metadata": {
        "colab": {
          "base_uri": "https://localhost:8080/"
        },
        "id": "nxzO8nfuutWi",
        "outputId": "000a8357-e1b7-4896-c61b-5cdbf249241c"
      },
      "execution_count": 1,
      "outputs": [
        {
          "output_type": "stream",
          "name": "stdout",
          "text": [
            "Valor de agregación (z): 2\n",
            "Decisión: ¡Vamos al cine!\n",
            "\n",
            "--- Otros ejemplos ---\n",
            "Valor de agregación (z): -8\n",
            "\n",
            "Con cine cerrado: No vamos al cine :(\n",
            "Valor de agregación (z): -1\n",
            "\n",
            "Con muchas tareas y sin estreno: No vamos al cine :(\n"
          ]
        }
      ]
    },
    {
      "cell_type": "code",
      "execution_count": 2,
      "metadata": {
        "colab": {
          "base_uri": "https://localhost:8080/"
        },
        "id": "95U6e4tkQxh4",
        "outputId": "5abf5f53-a0bf-494e-c0b5-3555cafcbe86"
      },
      "outputs": [
        {
          "output_type": "stream",
          "name": "stdout",
          "text": [
            "--- Escenario 1: Día ideal ---\n",
            "Valor de agregación (z): 12.80\n",
            "Decisión: ¡Vamos a pasear!\n",
            "\n",
            "--- Escenario 2: Día frío y sin ganas ---\n",
            "Valor de agregación (z): 2.70\n",
            "Decisión: Mejor quedarse en casa :(\n",
            "\n",
            "--- Escenario 3: Muy estresado, aunque haga buen día ---\n",
            "Valor de agregación (z): 8.80\n",
            "Decisión: ¡Vamos a pasear!\n",
            "\n",
            "--- Escenario 4: Casi cumple el umbral ---\n",
            "Valor de agregación (z): 8.50\n",
            "Decisión: ¡Vamos a pasear!\n",
            "\n"
          ]
        }
      ],
      "source": [
        "def neurona_paseo(temperatura, soleado, nivel_estres, hay_amigo_disponible, tiempo_disponible):\n",
        "    \"\"\"\n",
        "    Simula una neurona para decidir si es un buen momento para salir a pasear.\n",
        "\n",
        "    Args:\n",
        "        temperatura (float): Temperatura actual en grados Celsius (ej: 25.0)\n",
        "        soleado (int): ¿Está soleado? (1 para Sí, 0 para No)\n",
        "        nivel_estres (float): Nivel de estrés (0.0 a 1.0, donde 1.0 es muy estresado)\n",
        "        hay_amigo_disponible (int): ¿Hay un amigo disponible? (1 para Sí, 0 para No)\n",
        "        tiempo_disponible (float): Horas de tiempo libre disponibles (ej: 1.5)\n",
        "\n",
        "    Returns:\n",
        "        str: Decisión final (\"¡Vamos a pasear!\" o \"Mejor quedarse en casa :(\").\n",
        "    \"\"\"\n",
        "\n",
        "    # --- Parámetros de la Neurona ---\n",
        "    # Pesos (importancia de cada factor)\n",
        "    # Algunos factores pueden tener un peso más alto o ser negativos.\n",
        "    w_temp = 0.3      # La temperatura es importante, pero no lo único\n",
        "    w_soleado = 2.0   # El sol es un gran incentivo\n",
        "    w_estres = -3.0   # El estrés muy alto lo dificulta (peso negativo y alto)\n",
        "    w_amigo = 1.5     # Un amigo hace que sea más atractivo\n",
        "    w_tiempo = 1.0    # Tener tiempo libre es esencial\n",
        "\n",
        "    # Sesgo (bias)\n",
        "    # Un valor constante que ayuda a \"empujar\" la neurona hacia la activación\n",
        "    # o a hacerla más \"resistente\" a activarse.\n",
        "    # En este caso, un sesgo positivo puede significar que inherentemente nos gusta pasear.\n",
        "    bias = 1.0\n",
        "\n",
        "    # Umbral (threshold)\n",
        "    umbral = 4.0 # Necesitamos una \"puntuación\" combinada de 4 o más para salir\n",
        "\n",
        "    # --- Funcionamiento de la Neurona ---\n",
        "\n",
        "    # 1. Agregación (z): Suma ponderada de las entradas + sesgo\n",
        "    #z = (entrada1 * peso1) + (entrada2 * peso2) + ... + bias\n",
        "    z = (temperatura * w_temp) + \\\n",
        "        (soleado * w_soleado) + \\\n",
        "        (nivel_estres * w_estres) + \\\n",
        "        (hay_amigo_disponible * w_amigo) + \\\n",
        "        (tiempo_disponible * w_tiempo) + \\\n",
        "        bias\n",
        "\n",
        "    print(f\"Valor de agregación (z): {z:.2f}\") # Formateamos para mostrar solo dos decimales\n",
        "\n",
        "    # 2. Decisión (a): Comparación de la agregación con el umbral\n",
        "    if z >= umbral:\n",
        "        a = \"¡Vamos a pasear!\"\n",
        "    else:\n",
        "        a = \"Mejor quedarse en casa :(\"\n",
        "\n",
        "    return a\n",
        "\n",
        "# --- Escenarios de Prueba ---\n",
        "\n",
        "print(\"--- Escenario 1: Día ideal ---\")\n",
        "# Temperatura agradable, soleado, poco estrés, amigo disponible, tiempo\n",
        "decision1 = neurona_paseo(\n",
        "    temperatura=22.0,\n",
        "    soleado=1,\n",
        "    nivel_estres=0.1,\n",
        "    hay_amigo_disponible=1,\n",
        "    tiempo_disponible=2.0\n",
        ")\n",
        "print(f\"Decisión: {decision1}\\n\")\n",
        "\n",
        "print(\"--- Escenario 2: Día frío y sin ganas ---\")\n",
        "# Temperatura baja, nublado, algo estresado, sin amigo, poco tiempo\n",
        "decision2 = neurona_paseo(\n",
        "    temperatura=10.0,\n",
        "    soleado=0,\n",
        "    nivel_estres=0.6,\n",
        "    hay_amigo_disponible=0,\n",
        "    tiempo_disponible=0.5\n",
        ")\n",
        "print(f\"Decisión: {decision2}\\n\")\n",
        "\n",
        "print(\"--- Escenario 3: Muy estresado, aunque haga buen día ---\")\n",
        "# Aunque haga buen día, el estrés es muy alto\n",
        "decision3 = neurona_paseo(\n",
        "    temperatura=20.0,\n",
        "    soleado=1,\n",
        "    nivel_estres=0.9, # Nivel de estrés muy alto\n",
        "    hay_amigo_disponible=1,\n",
        "    tiempo_disponible=1.0\n",
        ")\n",
        "print(f\"Decisión: {decision3}\\n\")\n",
        "\n",
        "print(\"--- Escenario 4: Casi cumple el umbral ---\")\n",
        "# Una situación límite\n",
        "decision4 = neurona_paseo(\n",
        "    temperatura=18.0,\n",
        "    soleado=1,\n",
        "    nivel_estres=0.3,\n",
        "    hay_amigo_disponible=0,\n",
        "    tiempo_disponible=1.0\n",
        ")\n",
        "print(f\"Decisión: {decision4}\\n\")"
      ]
    }
  ]
}