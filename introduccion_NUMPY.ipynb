{
  "nbformat": 4,
  "nbformat_minor": 0,
  "metadata": {
    "colab": {
      "provenance": [],
      "authorship_tag": "ABX9TyMwvNKT39j3fX6mtrrD+TK4",
      "include_colab_link": true
    },
    "kernelspec": {
      "name": "python3",
      "display_name": "Python 3"
    },
    "language_info": {
      "name": "python"
    }
  },
  "cells": [
    {
      "cell_type": "markdown",
      "metadata": {
        "id": "view-in-github",
        "colab_type": "text"
      },
      "source": [
        "<a href=\"https://colab.research.google.com/github/vicmanw1ld/IA/blob/main/introduccion_NUMPY.ipynb\" target=\"_parent\"><img src=\"https://colab.research.google.com/assets/colab-badge.svg\" alt=\"Open In Colab\"/></a>"
      ]
    },
    {
      "cell_type": "code",
      "execution_count": null,
      "metadata": {
        "colab": {
          "base_uri": "https://localhost:8080/"
        },
        "id": "b868Md4Cc48q",
        "outputId": "0a3763dd-4fb2-49c1-cb73-6cc7f3963917"
      },
      "outputs": [
        {
          "output_type": "execute_result",
          "data": {
            "text/plain": [
              "8"
            ]
          },
          "metadata": {},
          "execution_count": 12
        }
      ],
      "source": [
        "import numpy as np\n",
        "\n",
        "a = np.zeros((2, 4))\n",
        "\n",
        "a\n",
        "\n",
        "\n",
        "a.size"
      ]
    },
    {
      "cell_type": "code",
      "source": [
        "a.shape\n"
      ],
      "metadata": {
        "colab": {
          "base_uri": "https://localhost:8080/"
        },
        "id": "26Hbbp_1ey4j",
        "outputId": "10838556-14ea-4660-b38d-f44ac4d07e20"
      },
      "execution_count": null,
      "outputs": [
        {
          "output_type": "execute_result",
          "data": {
            "text/plain": [
              "(2, 4)"
            ]
          },
          "metadata": {},
          "execution_count": 13
        }
      ]
    },
    {
      "cell_type": "code",
      "source": [
        "a.ndim"
      ],
      "metadata": {
        "colab": {
          "base_uri": "https://localhost:8080/"
        },
        "id": "ZLOMaeA7fbng",
        "outputId": "f3d15328-d798-472d-bb75-0831e3422e0f"
      },
      "execution_count": null,
      "outputs": [
        {
          "output_type": "execute_result",
          "data": {
            "text/plain": [
              "2"
            ]
          },
          "metadata": {},
          "execution_count": 14
        }
      ]
    },
    {
      "cell_type": "code",
      "source": [
        "# Array cuyos valores son todos 0\n",
        "np.zeros((2, 3, 4))"
      ],
      "metadata": {
        "colab": {
          "base_uri": "https://localhost:8080/"
        },
        "id": "thEcKohCfozE",
        "outputId": "fcc69c53-5a6f-4a9a-868a-2551fa86794a"
      },
      "execution_count": null,
      "outputs": [
        {
          "output_type": "execute_result",
          "data": {
            "text/plain": [
              "array([[[0., 0., 0., 0.],\n",
              "        [0., 0., 0., 0.],\n",
              "        [0., 0., 0., 0.]],\n",
              "\n",
              "       [[0., 0., 0., 0.],\n",
              "        [0., 0., 0., 0.],\n",
              "        [0., 0., 0., 0.]]])"
            ]
          },
          "metadata": {},
          "execution_count": 15
        }
      ]
    },
    {
      "cell_type": "code",
      "source": [
        "# Array cuyos valores son todos 1\n",
        "np.ones((2, 3, 4))"
      ],
      "metadata": {
        "colab": {
          "base_uri": "https://localhost:8080/"
        },
        "id": "xcwg7Ev2fqpA",
        "outputId": "6dd318e4-2607-45a3-fbac-f5352976b11f"
      },
      "execution_count": null,
      "outputs": [
        {
          "output_type": "execute_result",
          "data": {
            "text/plain": [
              "array([[[1., 1., 1., 1.],\n",
              "        [1., 1., 1., 1.],\n",
              "        [1., 1., 1., 1.]],\n",
              "\n",
              "       [[1., 1., 1., 1.],\n",
              "        [1., 1., 1., 1.],\n",
              "        [1., 1., 1., 1.]]])"
            ]
          },
          "metadata": {},
          "execution_count": 16
        }
      ]
    },
    {
      "cell_type": "code",
      "source": [
        "# Array cuyos valores son todos el valor indicado como segundo parámetro de la función\n",
        "np.full((2, 3, 4), 8) # El 8 es el valor que le das por defecto"
      ],
      "metadata": {
        "colab": {
          "base_uri": "https://localhost:8080/"
        },
        "id": "nqmN3GxAheAB",
        "outputId": "677b19d8-4405-4aba-fc35-1942ae4bb9c1"
      },
      "execution_count": null,
      "outputs": [
        {
          "output_type": "execute_result",
          "data": {
            "text/plain": [
              "array([[[8, 8, 8, 8],\n",
              "        [8, 8, 8, 8],\n",
              "        [8, 8, 8, 8]],\n",
              "\n",
              "       [[8, 8, 8, 8],\n",
              "        [8, 8, 8, 8],\n",
              "        [8, 8, 8, 8]]])"
            ]
          },
          "metadata": {},
          "execution_count": 17
        }
      ]
    },
    {
      "cell_type": "code",
      "source": [
        "# El resultado de np.empty no es predecible\n",
        "# Inicializa los valores del array con lo que haya en memoria en ese momento\n",
        "np.empty((2, 3, 9))"
      ],
      "metadata": {
        "colab": {
          "base_uri": "https://localhost:8080/"
        },
        "id": "7Kxzy7Nehovd",
        "outputId": "322076c5-9b71-4e49-83b5-df4474acb500"
      },
      "execution_count": null,
      "outputs": [
        {
          "output_type": "execute_result",
          "data": {
            "text/plain": [
              "array([[[3.15820261e-315, 0.00000000e+000, 6.79823792e-310,\n",
              "         4.47543482e+217, 6.80648771e+199, 6.19406593e+223,\n",
              "         1.99108547e+209, 3.76476751e-085, 1.14406376e+243],\n",
              "        [1.95918563e-027, 1.05923054e-153, 3.60241447e+252,\n",
              "         1.62691065e+219, 6.36058239e+151, 1.05894327e-153,\n",
              "         5.03887208e+175, 1.53044312e-094, 3.16046395e+180],\n",
              "        [7.26588105e+223, 7.29537362e+175, 1.97278832e-153,\n",
              "         5.97185003e+175, 4.55816195e+257, 2.20892690e+161,\n",
              "         2.64512473e+185, 2.93305690e+222, 1.43616552e+161]],\n",
              "\n",
              "       [[1.89130245e+219, 3.99461109e+252, 1.90649515e+185,\n",
              "         5.04533203e+223, 1.06209545e+248, 8.02675125e-095,\n",
              "         2.11336376e+214, 1.89122267e+219, 1.96097649e+243],\n",
              "        [9.10016856e+276, 3.57722603e-057, 1.78935926e+161,\n",
              "         1.96841819e-153, 4.18001791e+175, 1.28897780e+248,\n",
              "         8.18434960e-085, 4.50381864e+132, 1.49347735e+214],\n",
              "        [9.45869679e-154, 9.53728330e-307, 3.91701626e-027,\n",
              "         3.57755833e+160, 7.10569206e+159, 6.08709905e+247,\n",
              "         1.89122267e+219, 1.96097649e+243, 9.10016856e+276]]])"
            ]
          },
          "metadata": {},
          "execution_count": 18
        }
      ]
    },
    {
      "cell_type": "code",
      "source": [
        "# Inicializacion del array utilizando un array de Python\n",
        "b = np.array([[1, 2, 3], [4, 5, 6]])\n",
        "b\n"
      ],
      "metadata": {
        "colab": {
          "base_uri": "https://localhost:8080/"
        },
        "id": "JlF6Hynmi27T",
        "outputId": "9815a8e4-6ea7-4474-9639-01275488f125"
      },
      "execution_count": null,
      "outputs": [
        {
          "output_type": "execute_result",
          "data": {
            "text/plain": [
              "array([[1, 2, 3],\n",
              "       [4, 5, 6]])"
            ]
          },
          "metadata": {},
          "execution_count": 22
        }
      ]
    },
    {
      "cell_type": "code",
      "source": [
        "# Creación del array utilizando una función basada en rangos\n",
        "# (minimo, maximo, número elementos del array)\n",
        "print(np.linspace(0, 6, 10))"
      ],
      "metadata": {
        "colab": {
          "base_uri": "https://localhost:8080/"
        },
        "id": "uO7HSFzdi23a",
        "outputId": "4c1e9d1c-05c8-45a2-ae71-b5d5c74c6be7"
      },
      "execution_count": null,
      "outputs": [
        {
          "output_type": "stream",
          "name": "stdout",
          "text": [
            "[0.         0.66666667 1.33333333 2.         2.66666667 3.33333333\n",
            " 4.         4.66666667 5.33333333 6.        ]\n"
          ]
        }
      ]
    },
    {
      "cell_type": "code",
      "source": [
        "array_uni = np.array([1,3,5,7,9,11])\n",
        "print(array_uni.shape)\n",
        "type(array_uni)\n"
      ],
      "metadata": {
        "colab": {
          "base_uri": "https://localhost:8080/"
        },
        "id": "QQTvjezSi2sv",
        "outputId": "ea8b2061-b26e-4fdd-d08b-32ea010b8dca"
      },
      "execution_count": null,
      "outputs": [
        {
          "output_type": "stream",
          "name": "stdout",
          "text": [
            "(6,)\n"
          ]
        },
        {
          "output_type": "execute_result",
          "data": {
            "text/plain": [
              "numpy.ndarray"
            ]
          },
          "metadata": {},
          "execution_count": 24
        }
      ]
    },
    {
      "cell_type": "code",
      "source": [
        "#accediendo al 5 elemento del array\n",
        "array_uni[5]\n",
        "#accede al 3 y 4\n",
        "array_uni[2:4]\n",
        "\n",
        "#accediendo al elemento 0,3 y 5\n",
        "array_uni[0::3] #va dando saltos de 3 en 3"
      ],
      "metadata": {
        "colab": {
          "base_uri": "https://localhost:8080/"
        },
        "id": "ghlP0Zddi2eJ",
        "outputId": "bd3c8468-5f5c-425f-b06a-8999b8f33447"
      },
      "execution_count": null,
      "outputs": [
        {
          "output_type": "execute_result",
          "data": {
            "text/plain": [
              "array([1, 7])"
            ]
          },
          "metadata": {},
          "execution_count": 31
        }
      ]
    },
    {
      "cell_type": "code",
      "source": [
        "#Creando un array multidimensional\n",
        "array_multi = np.array([[1,2,3,4], [5,6,7,8]])\n",
        "\n",
        "print(array_multi.shape)\n",
        "print(array_multi)"
      ],
      "metadata": {
        "colab": {
          "base_uri": "https://localhost:8080/"
        },
        "id": "2Tba2x8ilO5k",
        "outputId": "2a2d7342-6405-45bd-cddf-d007f34cd8ab"
      },
      "execution_count": null,
      "outputs": [
        {
          "output_type": "stream",
          "name": "stdout",
          "text": [
            "(2, 4)\n",
            "[[1 2 3 4]\n",
            " [5 6 7 8]]\n"
          ]
        }
      ]
    },
    {
      "cell_type": "code",
      "source": [
        "#acceder al elemento 3 que es el 4\n",
        "array_multi[0,3] #fila 0 elemento 3"
      ],
      "metadata": {
        "colab": {
          "base_uri": "https://localhost:8080/"
        },
        "id": "big26VO3lkAl",
        "outputId": "b53d00bb-6061-4442-9ca3-14c9ca171413"
      },
      "execution_count": null,
      "outputs": [
        {
          "output_type": "execute_result",
          "data": {
            "text/plain": [
              "np.int64(4)"
            ]
          },
          "metadata": {},
          "execution_count": 33
        }
      ]
    },
    {
      "cell_type": "code",
      "source": [
        "#accediendo a todos los elementos de la segunda fila\n",
        "array_multi[1, :]"
      ],
      "metadata": {
        "colab": {
          "base_uri": "https://localhost:8080/"
        },
        "id": "2U8QeuZQmNXN",
        "outputId": "e52b1833-dfb8-486d-bec6-783fa8e0f8c5"
      },
      "execution_count": null,
      "outputs": [
        {
          "output_type": "execute_result",
          "data": {
            "text/plain": [
              "array([5, 6, 7, 8])"
            ]
          },
          "metadata": {},
          "execution_count": 34
        }
      ]
    },
    {
      "cell_type": "code",
      "source": [
        "# acceder al tercer elemento de ambas listas\n",
        "array_multi[:, 2] #accede a ambas listas y devuelve el elemento 2, con 0:, 2 tambein funciona"
      ],
      "metadata": {
        "colab": {
          "base_uri": "https://localhost:8080/"
        },
        "id": "CIq_dZmymTAW",
        "outputId": "cafa4d91-3e8a-4170-a0c7-83053576af5a"
      },
      "execution_count": null,
      "outputs": [
        {
          "output_type": "execute_result",
          "data": {
            "text/plain": [
              "array([3, 7])"
            ]
          },
          "metadata": {},
          "execution_count": 37
        }
      ]
    },
    {
      "cell_type": "markdown",
      "source": [
        "MODIFICAR UN ARRAY\n"
      ],
      "metadata": {
        "id": "E0i9P-Cim4zM"
      }
    },
    {
      "cell_type": "code",
      "source": [
        "#arange para crear arrais con rango\n",
        "#crea un array unidimensional del 0 al 27\n",
        "array1 = np.arange(28)\n",
        "array1"
      ],
      "metadata": {
        "colab": {
          "base_uri": "https://localhost:8080/"
        },
        "id": "zCol-mGZm-2a",
        "outputId": "d79abe99-11cd-4f26-f5a6-d81e48051f8d"
      },
      "execution_count": null,
      "outputs": [
        {
          "output_type": "execute_result",
          "data": {
            "text/plain": [
              "array([ 0,  1,  2,  3,  4,  5,  6,  7,  8,  9, 10, 11, 12, 13, 14, 15, 16,\n",
              "       17, 18, 19, 20, 21, 22, 23, 24, 25, 26, 27])"
            ]
          },
          "metadata": {},
          "execution_count": 40
        }
      ]
    },
    {
      "cell_type": "code",
      "source": [
        "#cambiar las dimensiones del array y sus longitudes\n",
        "array1.shape = (7, 4) #7 filas 4 columnas\n",
        "array1 # no se puede poner un array que no encaje"
      ],
      "metadata": {
        "colab": {
          "base_uri": "https://localhost:8080/"
        },
        "id": "L_iuULc6mtOf",
        "outputId": "38e1cd09-1d51-4b66-f523-81758dee57a3"
      },
      "execution_count": null,
      "outputs": [
        {
          "output_type": "execute_result",
          "data": {
            "text/plain": [
              "array([[ 0,  1,  2,  3],\n",
              "       [ 4,  5,  6,  7],\n",
              "       [ 8,  9, 10, 11],\n",
              "       [12, 13, 14, 15],\n",
              "       [16, 17, 18, 19],\n",
              "       [20, 21, 22, 23],\n",
              "       [24, 25, 26, 27]])"
            ]
          },
          "metadata": {},
          "execution_count": 47
        }
      ]
    },
    {
      "cell_type": "code",
      "source": [
        "# Transformar un array\n",
        "array2 = array1.reshape(4,7) #4 filas 7 columnas\n",
        "array2"
      ],
      "metadata": {
        "colab": {
          "base_uri": "https://localhost:8080/"
        },
        "id": "lXjmVkY4nwad",
        "outputId": "f97cc7ca-85ea-4c76-c4b1-0192d0ce9463"
      },
      "execution_count": null,
      "outputs": [
        {
          "output_type": "execute_result",
          "data": {
            "text/plain": [
              "array([[ 0,  1,  2,  3,  4,  5,  6],\n",
              "       [ 7,  8,  9, 10, 11, 12, 13],\n",
              "       [14, 15, 16, 17, 18, 19, 20],\n",
              "       [21, 22, 23, 24, 25, 26, 27]])"
            ]
          },
          "metadata": {},
          "execution_count": 48
        }
      ]
    },
    {
      "cell_type": "code",
      "source": [
        "#modificamos el nuevo array2\n",
        "array2[0, 3] = 20\n",
        "array2"
      ],
      "metadata": {
        "colab": {
          "base_uri": "https://localhost:8080/"
        },
        "id": "ZtjpuhH6o0uk",
        "outputId": "6b9c74b1-ca02-4cbd-bded-a3cf92ec7f84"
      },
      "execution_count": null,
      "outputs": [
        {
          "output_type": "execute_result",
          "data": {
            "text/plain": [
              "array([[ 0,  1,  2, 20,  4,  5,  6],\n",
              "       [ 7,  8,  9, 10, 11, 12, 13],\n",
              "       [14, 15, 16, 17, 18, 19, 20],\n",
              "       [21, 22, 23, 24, 25, 26, 27]])"
            ]
          },
          "metadata": {},
          "execution_count": 49
        }
      ]
    },
    {
      "cell_type": "code",
      "source": [
        "# Vemos que ha cambiado, pero tambien cambia en array1\n",
        "array1"
      ],
      "metadata": {
        "colab": {
          "base_uri": "https://localhost:8080/"
        },
        "id": "3Yrk6X3TpNLi",
        "outputId": "f5d6e591-17b3-477b-eb17-77f8f85aaffb"
      },
      "execution_count": null,
      "outputs": [
        {
          "output_type": "execute_result",
          "data": {
            "text/plain": [
              "array([[ 0,  1,  2, 20],\n",
              "       [ 4,  5,  6,  7],\n",
              "       [ 8,  9, 10, 11],\n",
              "       [12, 13, 14, 15],\n",
              "       [16, 17, 18, 19],\n",
              "       [20, 21, 22, 23],\n",
              "       [24, 25, 26, 27]])"
            ]
          },
          "metadata": {},
          "execution_count": 50
        }
      ]
    },
    {
      "cell_type": "code",
      "source": [
        "# desenvuelve el array devolviendo un nuevo array de una sola dimensión\n",
        "# Al loro que es un puntero que apunta al otro por lo que si lo modificamos tambien se modifica\n",
        "array1.ravel()"
      ],
      "metadata": {
        "colab": {
          "base_uri": "https://localhost:8080/"
        },
        "id": "cphR99DlpUGw",
        "outputId": "278f243f-042c-4137-9164-fe8735a67e3f"
      },
      "execution_count": null,
      "outputs": [
        {
          "output_type": "execute_result",
          "data": {
            "text/plain": [
              "array([ 0,  1,  2, 20,  4,  5,  6,  7,  8,  9, 10, 11, 12, 13, 14, 15, 16,\n",
              "       17, 18, 19, 20, 21, 22, 23, 24, 25, 26, 27])"
            ]
          },
          "metadata": {},
          "execution_count": 51
        }
      ]
    },
    {
      "cell_type": "markdown",
      "source": [
        "OPERACIONES ARITMÉTICAS CON ARRAYS\n"
      ],
      "metadata": {
        "id": "KmU3vZZeqAmv"
      }
    },
    {
      "cell_type": "code",
      "source": [
        "# Creación de dos Arrays unidimensionales\n",
        "array1 = np.arange(2, 18, 2)\n",
        "array2 = np.arange(8)\n",
        "print(\"Array 1:\", array1)\n",
        "print(\"Array 2:\", array2)"
      ],
      "metadata": {
        "id": "y6Zi4oWMp5-r",
        "outputId": "74d39552-2299-408a-ac95-210a98461e01",
        "colab": {
          "base_uri": "https://localhost:8080/"
        }
      },
      "execution_count": null,
      "outputs": [
        {
          "output_type": "stream",
          "name": "stdout",
          "text": [
            "Array 1: [ 2  4  6  8 10 12 14 16]\n",
            "Array 2: [0 1 2 3 4 5 6 7]\n"
          ]
        }
      ]
    }
  ]
}